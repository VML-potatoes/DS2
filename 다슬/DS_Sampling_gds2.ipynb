{
 "cells": [
  {
   "cell_type": "code",
   "execution_count": null,
   "metadata": {},
   "outputs": [],
   "source": [
    "from sklearn.utils import resample\n",
    "from imblearn.over_sampling import SMOTE\n",
    "import pandas as pd\n",
    "\n",
    "def smote_then_undersample(X, y, random_state=42):\n",
    "    \"\"\"\n",
    "    SMOTE로 소수 클래스를 증강한 후, 전체 데이터를 50:50 비율로 언더샘플링하는 함수.\n",
    "    :param X: 입력 특성 데이터프레임\n",
    "    :param y: 타겟 레이블 시리즈 (0과 1)\n",
    "    :param random_state: 랜덤 시드\n",
    "    :return: 균형 잡힌 X, y\n",
    "    \"\"\"\n",
    "    # Step 1: 소수 클래스 오버샘플링 (SMOTE 사용)\n",
    "    smote = SMOTE(sampling_strategy=0.5, random_state=random_state)  # 대략적인 균형 맞추기\n",
    "    X_resampled, y_resampled = smote.fit_resample(X, y)\n",
    "\n",
    "    # Step 2: 오버샘플링 후, 다수 클래스와 소수 클래스 분리\n",
    "    class_0_data = X_resampled[y_resampled == 0]\n",
    "    class_1_data = X_resampled[y_resampled == 1]\n",
    "\n",
    "    # 두 클래스의 수를 동일하게 맞추기 위해 n_samples를 소수 클래스의 수로 맞춤\n",
    "    n_samples = min(len(class_0_data), len(class_1_data))\n",
    "\n",
    "    # Step 3: 무작위 언더샘플링 진행\n",
    "    class_0_sample = resample(class_0_data, replace=False, n_samples=n_samples, random_state=random_state)\n",
    "    class_1_sample = resample(class_1_data, replace=False, n_samples=n_samples, random_state=random_state)\n",
    "\n",
    "    # 결합 및 결과 반환\n",
    "    X_combined = pd.concat([class_0_sample, class_1_sample]).reset_index(drop=True)\n",
    "    y_combined = pd.Series([0] * n_samples + [1] * n_samples).reset_index(drop=True)\n",
    "    \n",
    "    return X_combined, y_combined\n"
   ]
  }
 ],
 "metadata": {
  "language_info": {
   "name": "python"
  }
 },
 "nbformat": 4,
 "nbformat_minor": 2
}
