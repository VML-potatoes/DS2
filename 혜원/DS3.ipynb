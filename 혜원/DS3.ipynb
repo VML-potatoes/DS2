{
 "cells": [
  {
   "cell_type": "markdown",
   "metadata": {},
   "source": [
    "### 데이터사이언스"
   ]
  },
  {
   "cell_type": "code",
   "execution_count": 1,
   "metadata": {},
   "outputs": [],
   "source": [
    "import pandas as pd\n",
    "from sklearn.decomposition import PCA\n",
    "from sklearn.preprocessing import StandardScaler"
   ]
  },
  {
   "cell_type": "code",
   "execution_count": 2,
   "metadata": {},
   "outputs": [],
   "source": [
    "train_data = pd.read_csv('DS-main/datas/train.csv')\n",
    "test_data = pd.read_csv('DS-main/datas/test.csv')"
   ]
  },
  {
   "cell_type": "code",
   "execution_count": 6,
   "metadata": {},
   "outputs": [
    {
     "name": "stdout",
     "output_type": "stream",
     "text": [
      "PCA - User Info:         PC1       PC2       PC3       PC4       PC5      PC6       PC7  \\\n",
      "0  1.547224  1.186552 -0.484155 -1.981151  1.525804  0.88928 -0.359976   \n",
      "1  1.547224  1.186552 -0.484155 -1.981151  1.525804  0.88928 -0.359976   \n",
      "2  1.547224  1.186552 -0.484155 -1.981151  1.525804  0.88928 -0.359976   \n",
      "3  1.547224  1.186552 -0.484155 -1.981151  1.525804  0.88928 -0.359976   \n",
      "4  1.547224  1.186552 -0.484155 -1.981151  1.525804  0.88928 -0.359976   \n",
      "\n",
      "        PC8       PC9  \n",
      "0  0.716238 -0.954456  \n",
      "1  0.716238 -0.954456  \n",
      "2  0.716238 -0.954456  \n",
      "3  0.716238 -0.954456  \n",
      "4  0.716238 -0.954456  \n",
      "PCA - Card Info:         PC1       PC2       PC3      PC4\n",
      "0  0.233724  0.511934 -1.659739  0.24869\n",
      "1  0.233724  0.511934 -1.659739  0.24869\n",
      "2  0.233724  0.511934 -1.659739  0.24869\n",
      "3  0.233724  0.511934 -1.659739  0.24869\n",
      "4  0.233724  0.511934 -1.659739  0.24869\n",
      "PCA - Transaction Info:         PC1       PC2       PC3       PC4\n",
      "0  0.475629 -2.232074  0.004659  1.082067\n",
      "1  0.721707 -1.998653 -0.247079  0.522061\n",
      "2 -0.493359 -2.002485 -0.289636 -0.044130\n",
      "3  0.525559 -1.920248 -0.337362  0.325325\n",
      "4  1.050021 -1.510989 -0.707522  1.054653\n",
      "PCA - Security & Fraud Info:         PC1\n",
      "0 -0.605379\n",
      "1 -0.605379\n",
      "2  0.698607\n",
      "3 -0.605379\n",
      "4 -0.605379\n",
      "Explained Variance Ratio - User Info: [0.22607255 0.16863514 0.10108459 0.09643974 0.09188481 0.08960447\n",
      " 0.08569238 0.0791188  0.04819062]\n",
      "Explained Variance Ratio - Card Info: [0.26700271 0.25652435 0.24538721 0.23108574]\n",
      "Explained Variance Ratio - Transaction Info: [0.25705536 0.25314812 0.24685164 0.24294489]\n",
      "Explained Variance Ratio - Security & Fraud Info: [1.]\n"
     ]
    }
   ],
   "source": [
    "df = train_data\n",
    "\n",
    "# Groups of columns as defined\n",
    "user_info_cols = ['User', 'Gender', 'Current Age', 'Retirement Age', 'Birth Year', 'Birth Month', 'Zipcode',\n",
    "                  'Per Capita Income - Zipcode', 'Yearly Income', 'Total Debt', 'Credit Score']\n",
    "\n",
    "card_info_cols = ['Card', 'Card Brand', 'Card Type', 'Card Number', 'Expires', 'Has Chip',\n",
    "                  'Credit Limit', 'Acct Open Date', 'Year PIN last Changed']\n",
    "\n",
    "transaction_info_cols = ['Year', 'Month', 'Day', 'Amount', 'Merchandise Code']\n",
    "\n",
    "security_fraud_info_cols = ['Whether Security Chip is Used', 'Error Message', 'Is Fraud?']\n",
    "\n",
    "# Function to apply PCA to a group of columns\n",
    "def apply_pca(df, columns, n_components=0.95):\n",
    "    # Standardize the data\n",
    "    scaler = StandardScaler()\n",
    "    scaled_data = scaler.fit_transform(df[columns].select_dtypes(include=[float, int]))\n",
    "    \n",
    "    # Apply PCA\n",
    "    pca = PCA(n_components=n_components)  # Keep 95% of variance\n",
    "    pca_result = pca.fit_transform(scaled_data)\n",
    "    \n",
    "    # Return DataFrame with PCA results\n",
    "    pca_df = pd.DataFrame(pca_result, columns=[f'PC{i+1}' for i in range(pca_result.shape[1])])\n",
    "    return pca_df, pca.explained_variance_ratio_\n",
    "\n",
    "# Function to save the PCA result and explained variance to a txt file\n",
    "def save_pca_to_txt(pca_df, explained_variance, filename):\n",
    "    with open(filename, 'w') as file:\n",
    "        file.write(\"PCA Results:\\n\")\n",
    "        file.write(pca_df.to_string())\n",
    "        file.write(\"\\n\\nExplained Variance Ratio:\\n\")\n",
    "        file.write(str(explained_variance))\n",
    "\n",
    "# Apply PCA to each group and save to text files\n",
    "pca_user_info, var_user_info = apply_pca(df, user_info_cols)\n",
    "save_pca_to_txt(pca_user_info, var_user_info, 'pca_user_info.txt')\n",
    "\n",
    "pca_card_info, var_card_info = apply_pca(df, card_info_cols)\n",
    "save_pca_to_txt(pca_card_info, var_card_info, 'pca_card_info.txt')\n",
    "\n",
    "pca_transaction_info, var_transaction_info = apply_pca(df, transaction_info_cols)\n",
    "save_pca_to_txt(pca_transaction_info, var_transaction_info, 'pca_transaction_info.txt')\n",
    "\n",
    "pca_security_fraud_info, var_security_fraud_info = apply_pca(df, security_fraud_info_cols)\n",
    "save_pca_to_txt(pca_security_fraud_info, var_security_fraud_info, 'pca_security_fraud_info.txt')\n",
    "\n",
    "print(\"PCA results saved to text files.\")"
   ]
  }
 ],
 "metadata": {
  "kernelspec": {
   "display_name": "base",
   "language": "python",
   "name": "python3"
  },
  "language_info": {
   "codemirror_mode": {
    "name": "ipython",
    "version": 3
   },
   "file_extension": ".py",
   "mimetype": "text/x-python",
   "name": "python",
   "nbconvert_exporter": "python",
   "pygments_lexer": "ipython3",
   "version": "3.11.7"
  }
 },
 "nbformat": 4,
 "nbformat_minor": 2
}
